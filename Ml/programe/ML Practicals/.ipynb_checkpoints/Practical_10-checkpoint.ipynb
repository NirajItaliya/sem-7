{
 "cells": [
  {
   "cell_type": "code",
   "execution_count": null,
   "metadata": {
    "colab": {
     "base_uri": "https://localhost:8080/"
    },
    "id": "V-onY1yll_qK",
    "outputId": "62506c3b-373d-4188-8ef2-5c33f611740e"
   },
   "outputs": [],
   "source": [
    "!pip install tensorflow-gpu"
   ]
  },
  {
   "cell_type": "markdown",
   "metadata": {},
   "source": [
    "# Practical 10\n",
    "\n",
    "### - Name: Niraj Italiya \n",
    "### - Enrollment No: 190130107041\n",
    "### - Subject: Machine Learning\n",
    "### - Aim: Digit Classification using MNIST dataset and deep learning"
   ]
  },
  {
   "cell_type": "code",
   "execution_count": null,
   "metadata": {},
   "outputs": [],
   "source": []
  },
  {
   "cell_type": "code",
   "execution_count": 2,
   "metadata": {
    "id": "XfUEmeyJrJq7"
   },
   "outputs": [],
   "source": [
    "import os\n",
    "os.environ['TF_CPP_MIN_LOG_LEVEL'] = '2'"
   ]
  },
  {
   "cell_type": "code",
   "execution_count": 3,
   "metadata": {
    "id": "hcvvf3DSrjGj"
   },
   "outputs": [],
   "source": [
    "import tensorflow as tf\n",
    "from tensorflow import keras\n",
    "import numpy as np\n",
    "import matplotlib.pyplot as plt"
   ]
  },
  {
   "cell_type": "code",
   "execution_count": 4,
   "metadata": {
    "id": "LZa4EJ93rs1x"
   },
   "outputs": [],
   "source": [
    "mnist = keras.datasets.mnist"
   ]
  },
  {
   "cell_type": "code",
   "execution_count": 5,
   "metadata": {
    "colab": {
     "base_uri": "https://localhost:8080/"
    },
    "id": "xm5dgjj-rvut",
    "outputId": "bf4cc955-8dd5-4389-ad8c-61fcc1d5ff81"
   },
   "outputs": [
    {
     "name": "stdout",
     "output_type": "stream",
     "text": [
      "Downloading data from https://storage.googleapis.com/tensorflow/tf-keras-datasets/mnist.npz\n",
      "11490434/11490434 [==============================] - 0s 0us/step\n"
     ]
    }
   ],
   "source": [
    "(X_train, y_train), (X_test, y_test) = mnist.load_data()"
   ]
  },
  {
   "cell_type": "code",
   "execution_count": 6,
   "metadata": {
    "colab": {
     "base_uri": "https://localhost:8080/"
    },
    "id": "iz8KvaHPr4J4",
    "outputId": "dae7a3c5-b396-40de-8fd4-5a72a042ec92"
   },
   "outputs": [
    {
     "name": "stdout",
     "output_type": "stream",
     "text": [
      "(60000, 28, 28) (60000,)\n"
     ]
    }
   ],
   "source": [
    "print(X_train.shape, y_train.shape)"
   ]
  },
  {
   "cell_type": "code",
   "execution_count": 7,
   "metadata": {
    "id": "Bb_BD4mxr8Im"
   },
   "outputs": [],
   "source": [
    "X_train, X_test = X_train / 255.0, X_test / 255.0"
   ]
  },
  {
   "cell_type": "code",
   "execution_count": 8,
   "metadata": {
    "colab": {
     "base_uri": "https://localhost:8080/",
     "height": 267
    },
    "id": "q-fcwkuRsQ1g",
    "outputId": "6a78aab3-f3e6-47ad-9616-3f3bd132b327"
   },
   "outputs": [
    {
     "data": {
      "image/png": "[encoded data removed]",
      "text/plain": [
       "<Figure size 432x288 with 5 Axes>"
      ]
     },
     "metadata": {
      "needs_background": "light"
     },
     "output_type": "display_data"
    }
   ],
   "source": [
    "for i in range(5):\n",
    "  plt.subplot(2, 3, i+1)\n",
    "  plt.imshow(X_train[i], cmap='gray')\n",
    "plt.show()"
   ]
  },
  {
   "cell_type": "markdown",
   "metadata": {
    "id": "FZ9cKb250_Ry"
   },
   "source": [
    "## CNN"
   ]
  },
  {
   "cell_type": "code",
   "execution_count": 9,
   "metadata": {
    "id": "YOw8Lz9WsdxP"
   },
   "outputs": [],
   "source": [
    "model = keras.models.Sequential([\n",
    "    keras.layers.Flatten(input_shape=[28,28]),\n",
    "    keras.layers.Dense(128, activation='relu'),\n",
    "    keras.layers.Dense(10)\n",
    "])"
   ]
  },
  {
   "cell_type": "code",
   "execution_count": 10,
   "metadata": {
    "colab": {
     "base_uri": "https://localhost:8080/"
    },
    "id": "i3Xxl-nntCKq",
    "outputId": "69d71fb7-35d0-43e3-cf2b-94fa4269f7f3"
   },
   "outputs": [
    {
     "name": "stdout",
     "output_type": "stream",
     "text": [
      "Model: \"sequential\"\n",
      "_________________________________________________________________\n",
      " Layer (type)                Output Shape              Param #   \n",
      "=================================================================\n",
      " flatten (Flatten)           (None, 784)               0         \n",
      "                                                                 \n",
      " dense (Dense)               (None, 128)               100480    \n",
      "                                                                 \n",
      " dense_1 (Dense)             (None, 10)                1290      \n",
      "                                                                 \n",
      "=================================================================\n",
      "Total params: 101,770\n",
      "Trainable params: 101,770\n",
      "Non-trainable params: 0\n",
      "_________________________________________________________________\n"
     ]
    }
   ],
   "source": [
    "model.summary()"
   ]
  },
  {
   "cell_type": "code",
   "execution_count": 11,
   "metadata": {
    "colab": {
     "base_uri": "https://localhost:8080/"
    },
    "id": "2smD-3QKtOEa",
    "outputId": "5aab6a8d-e75f-448d-9481-0417fd2e7904"
   },
   "outputs": [
    {
     "name": "stderr",
     "output_type": "stream",
     "text": [
      "/usr/local/lib/python3.7/dist-packages/keras/optimizers/optimizer_v2/adam.py:114: UserWarning: The `lr` argument is deprecated, use `learning_rate` instead.\n",
      "  super().__init__(name, **kwargs)\n"
     ]
    }
   ],
   "source": [
    "loss = keras.losses.SparseCategoricalCrossentropy(from_logits=True)\n",
    "optim = keras.optimizers.Adam(lr=0.001)\n",
    "metrics = ['accuracy']"
   ]
  },
  {
   "cell_type": "code",
   "execution_count": 12,
   "metadata": {
    "id": "g5L5JuuktpLe"
   },
   "outputs": [],
   "source": [
    "model.compile(loss=loss, optimizer=optim, metrics=metrics)"
   ]
  },
  {
   "cell_type": "code",
   "execution_count": 13,
   "metadata": {
    "id": "STC7wyGNttP5"
   },
   "outputs": [],
   "source": [
    "batch_size = 64\n",
    "epochs = 5"
   ]
  },
  {
   "cell_type": "code",
   "execution_count": 14,
   "metadata": {
    "colab": {
     "base_uri": "https://localhost:8080/"
    },
    "id": "VHmqF-fItzhs",
    "outputId": "b10a0039-28f5-41b3-cfb3-48c3837dbc3c"
   },
   "outputs": [
    {
     "name": "stdout",
     "output_type": "stream",
     "text": [
      "Epoch 1/5\n",
      "938/938 - 6s - loss: 0.2900 - accuracy: 0.9179 - 6s/epoch - 6ms/step\n",
      "Epoch 2/5\n",
      "938/938 - 3s - loss: 0.1353 - accuracy: 0.9602 - 3s/epoch - 4ms/step\n",
      "Epoch 3/5\n",
      "938/938 - 4s - loss: 0.0938 - accuracy: 0.9723 - 4s/epoch - 4ms/step\n",
      "Epoch 4/5\n",
      "938/938 - 3s - loss: 0.0715 - accuracy: 0.9789 - 3s/epoch - 4ms/step\n",
      "Epoch 5/5\n",
      "938/938 - 3s - loss: 0.0567 - accuracy: 0.9833 - 3s/epoch - 3ms/step\n"
     ]
    },
    {
     "data": {
      "text/plain": [
       "<keras.callbacks.History at 0x7f355033ae50>"
      ]
     },
     "execution_count": 14,
     "metadata": {},
     "output_type": "execute_result"
    }
   ],
   "source": [
    "model.fit(X_train, y_train, batch_size=batch_size, epochs=epochs, shuffle=True, verbose=2)"
   ]
  },
  {
   "cell_type": "code",
   "execution_count": 15,
   "metadata": {
    "colab": {
     "base_uri": "https://localhost:8080/"
    },
    "id": "bTtqW-M0t8-e",
    "outputId": "ed84b806-2da5-4f20-a730-bcc18c7c3a47"
   },
   "outputs": [
    {
     "name": "stdout",
     "output_type": "stream",
     "text": [
      "157/157 - 0s - loss: 0.0728 - accuracy: 0.9757 - 446ms/epoch - 3ms/step\n"
     ]
    },
    {
     "data": {
      "text/plain": [
       "[0.07275399565696716, 0.9757000207901001]"
      ]
     },
     "execution_count": 15,
     "metadata": {},
     "output_type": "execute_result"
    }
   ],
   "source": [
    "model.evaluate(X_test, y_test, batch_size=batch_size, verbose=2)"
   ]
  },
  {
   "cell_type": "code",
   "execution_count": 16,
   "metadata": {
    "id": "vWokVjKGuI4N"
   },
   "outputs": [],
   "source": [
    "probability_model = keras.models.Sequential([\n",
    "    model,\n",
    "    keras.layers.Softmax()\n",
    "])"
   ]
  },
  {
   "cell_type": "code",
   "execution_count": 17,
   "metadata": {
    "colab": {
     "base_uri": "https://localhost:8080/"
    },
    "id": "OmvMJZTzui2U",
    "outputId": "b6944185-eeee-4ad4-fa1e-3c317bf41795"
   },
   "outputs": [
    {
     "name": "stdout",
     "output_type": "stream",
     "text": [
      "tf.Tensor(\n",
      "[1.0086900e-05 1.5415090e-09 6.8819754e-06 3.9309458e-04 3.7533834e-10\n",
      " 3.9293700e-06 3.6807214e-11 9.9958283e-01 1.8430835e-06 1.3861072e-06], shape=(10,), dtype=float32)\n",
      "7\n"
     ]
    }
   ],
   "source": [
    "predictions = probability_model(X_test)\n",
    "pred = predictions[0]\n",
    "print(pred)\n",
    "label = np.argmax(pred)\n",
    "print(label)"
   ]
  },
  {
   "cell_type": "code",
   "execution_count": 18,
   "metadata": {
    "colab": {
     "base_uri": "https://localhost:8080/"
    },
    "id": "3Oq4eZfmu2aa",
    "outputId": "4ea25c18-41a3-43bc-a395-c0b58c3627aa"
   },
   "outputs": [
    {
     "name": "stdout",
     "output_type": "stream",
     "text": [
      "tf.Tensor(\n",
      "[1.0086900e-05 1.5415090e-09 6.8819754e-06 3.9309458e-04 3.7533834e-10\n",
      " 3.9293700e-06 3.6807214e-11 9.9958283e-01 1.8430835e-06 1.3861072e-06], shape=(10,), dtype=float32)\n",
      "7\n"
     ]
    }
   ],
   "source": [
    "predictions = model(X_test)\n",
    "predictions = tf.nn.softmax(predictions)\n",
    "print(pred)\n",
    "label = np.argmax(pred)\n",
    "print(label)"
   ]
  },
  {
   "cell_type": "code",
   "execution_count": 19,
   "metadata": {
    "colab": {
     "base_uri": "https://localhost:8080/"
    },
    "id": "9WN5_aEbvSxS",
    "outputId": "eb990ec8-25a8-42a4-9688-c5e72ff34b98"
   },
   "outputs": [
    {
     "name": "stdout",
     "output_type": "stream",
     "text": [
      "(5, 10)\n"
     ]
    }
   ],
   "source": [
    "pred05 = predictions[0:5]\n",
    "print(pred05.shape)"
   ]
  },
  {
   "cell_type": "code",
   "execution_count": 20,
   "metadata": {
    "colab": {
     "base_uri": "https://localhost:8080/",
     "height": 267
    },
    "id": "j1Yf-tLwwbYt",
    "outputId": "fbc26118-fdc5-4b75-a135-d979dff9db13"
   },
   "outputs": [
    {
     "data": {
      "image/png": "[encoded data removed]",
      "text/plain": [
       "<Figure size 432x288 with 5 Axes>"
      ]
     },
     "metadata": {
      "needs_background": "light"
     },
     "output_type": "display_data"
    }
   ],
   "source": [
    "for i in range(5):\n",
    "  plt.subplot(2, 3, i+1)\n",
    "  plt.imshow(X_test[i], cmap='gray')\n",
    "plt.show()"
   ]
  },
  {
   "cell_type": "code",
   "execution_count": 21,
   "metadata": {
    "colab": {
     "base_uri": "https://localhost:8080/"
    },
    "id": "pyw3RkpYwI3D",
    "outputId": "e8447365-e908-44fd-ae96-c955d0147e85"
   },
   "outputs": [
    {
     "data": {
      "text/plain": [
       "<tf.Tensor: shape=(5, 10), dtype=float32, numpy=\n",
       "array([[1.0086900e-05, 1.5415090e-09, 6.8819754e-06, 3.9309458e-04,\n",
       "        3.7533834e-10, 3.9293700e-06, 3.6807214e-11, 9.9958283e-01,\n",
       "        1.8430835e-06, 1.3861072e-06],\n",
       "       [2.0969930e-08, 3.4459381e-06, 9.9999368e-01, 2.7781971e-06,\n",
       "        2.4798183e-15, 7.3321176e-09, 1.9732997e-09, 6.8979402e-14,\n",
       "        8.5801510e-08, 5.4589292e-13],\n",
       "       [6.6605203e-06, 9.9546081e-01, 3.5848413e-04, 8.8215216e-05,\n",
       "        1.3447495e-04, 3.4363638e-05, 2.1173590e-05, 2.8374095e-03,\n",
       "        1.0239329e-03, 3.4495635e-05],\n",
       "       [9.9993265e-01, 6.9218066e-07, 2.9000914e-06, 1.1939900e-06,\n",
       "        1.2203897e-08, 2.1361634e-06, 6.7655301e-06, 1.1146413e-05,\n",
       "        1.2340305e-09, 4.2525993e-05],\n",
       "       [1.9019935e-05, 1.2200203e-06, 1.2715516e-04, 2.5794673e-06,\n",
       "        9.8607117e-01, 1.4233581e-05, 1.5767735e-05, 5.6459699e-05,\n",
       "        6.3499592e-06, 1.3686136e-02]], dtype=float32)>"
      ]
     },
     "execution_count": 21,
     "metadata": {},
     "output_type": "execute_result"
    }
   ],
   "source": [
    "pred05"
   ]
  },
  {
   "cell_type": "code",
   "execution_count": 22,
   "metadata": {
    "colab": {
     "base_uri": "https://localhost:8080/"
    },
    "id": "OrtAAySdvkMz",
    "outputId": "c7ae5849-becc-464e-f3d4-0f88f7274b97"
   },
   "outputs": [
    {
     "name": "stdout",
     "output_type": "stream",
     "text": [
      "[7 2 1 0 4]\n"
     ]
    }
   ],
   "source": [
    "label05 = np.argmax(pred05, axis=1)\n",
    "print(label05)"
   ]
  },
  {
   "cell_type": "code",
   "execution_count": null,
   "metadata": {
    "id": "T3_NuVqOvsOR"
   },
   "outputs": [],
   "source": []
  }
 ],
 "metadata": {
  "accelerator": "GPU",
  "colab": {
   "provenance": []
  },
  "gpuClass": "standard",
  "kernelspec": {
   "display_name": "Python 3",
   "language": "python",
   "name": "python3"
  },
  "language_info": {
   "codemirror_mode": {
    "name": "ipython",
    "version": 3
   },
   "file_extension": ".py",
   "mimetype": "text/x-python",
   "name": "python",
   "nbconvert_exporter": "python",
   "pygments_lexer": "ipython3",
   "version": "3.8.5"
  }
 },
 "nbformat": 4,
 "nbformat_minor": 1
}
